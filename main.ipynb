{
 "cells": [
  {
   "cell_type": "markdown",
   "id": "8346b6f9",
   "metadata": {},
   "source": [
    "# Libraries Imported"
   ]
  },
  {
   "cell_type": "code",
   "execution_count": null,
   "id": "e5988644",
   "metadata": {},
   "outputs": [],
   "source": [
    "import pandas as pd\n",
    "import numpy as np\n",
    "import matplotlib.pyplot as plt\n",
    "import seaborn as sns\n",
    "\n",
    "from sklearn.ensemble import RandomForestClassifier\n",
    "from sklearn.tree import DecisionTreeClassifier\n",
    "from sklearn.linear_model import Perceptron\n",
    "from sklearn.linear_model import LogisticRegression\n",
    "from sklearn import svm\n",
    "from sklearn.neighbors import KNeighborsClassifier\n",
    "from sklearn.neural_network import MLPClassifier\n",
    "\n",
    "from sklearn.metrics import confusion_matrix\n",
    "from sklearn.metrics import classification_report\n",
    "from sklearn.naive_bayes import GaussianNB\n",
    "from sklearn import metrics\n",
    "\n",
    "from sklearn.model_selection import train_test_split\n",
    "from sklearn.preprocessing import StandardScaler"
   ]
  },
  {
   "cell_type": "markdown",
   "id": "30ddaf9f",
   "metadata": {},
   "source": [
    "# Reading .csv file"
   ]
  },
  {
   "cell_type": "code",
   "execution_count": null,
   "id": "af127a23",
   "metadata": {},
   "outputs": [],
   "source": [
    "dataset = pd.read_csv('grid.csv')\n",
    "dataset.head()"
   ]
  },
  {
   "cell_type": "markdown",
   "id": "0cc764b8",
   "metadata": {},
   "source": [
    "# Constant Variables"
   ]
  },
  {
   "cell_type": "code",
   "execution_count": null,
   "id": "1c03f9c2",
   "metadata": {},
   "outputs": [],
   "source": [
    "X = dataset.drop(['stab', 'stabf'], axis=1)\n",
    "y = dataset['stabf']\n",
    "\n",
    "feature_names=['tau1','tau2','tau3','tau4','p1','p2','p3','p4','g1','g2','g3','g4']"
   ]
  },
  {
   "cell_type": "markdown",
   "id": "1308f39b",
   "metadata": {},
   "source": []
  },
  {
   "cell_type": "code",
   "execution_count": null,
   "id": "170cad3d",
   "metadata": {},
   "outputs": [],
   "source": [
    "corr_data = X.corr()\n",
    "fig, ax = plt.subplots(figsize = (10, 10))\n",
    "color_map = sns.diverging_palette(204, 106, s = 100, as_cmap=True)\n",
    "sns.heatmap(corr_data,cmap=color_map, annot=True, ax = ax, center=0.00000)\n",
    "plt.show()\n",
    "del corr_data"
   ]
  },
  {
   "cell_type": "code",
   "execution_count": null,
   "id": "aef6b3fc",
   "metadata": {},
   "outputs": [],
   "source": []
  }
 ],
 "metadata": {
  "kernelspec": {
   "display_name": "Python 3 (ipykernel)",
   "language": "python",
   "name": "python3"
  },
  "language_info": {
   "codemirror_mode": {
    "name": "ipython",
    "version": 3
   },
   "file_extension": ".py",
   "mimetype": "text/x-python",
   "name": "python",
   "nbconvert_exporter": "python",
   "pygments_lexer": "ipython3",
   "version": "3.9.7"
  }
 },
 "nbformat": 4,
 "nbformat_minor": 5
}
