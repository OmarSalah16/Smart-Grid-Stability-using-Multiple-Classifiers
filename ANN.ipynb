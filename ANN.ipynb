{
 "cells": [
  {
   "cell_type": "markdown",
   "id": "8346b6f9",
   "metadata": {},
   "source": [
    "# Libraries Imported"
   ]
  },
  {
   "cell_type": "code",
   "execution_count": null,
   "id": "e5988644",
   "metadata": {},
   "outputs": [],
   "source": [
    "import pandas as pd\n",
    "import numpy as np\n",
    "import matplotlib.pyplot as plt\n",
    "import seaborn as sns\n",
    "\n",
    "from sklearn.ensemble import RandomForestClassifier\n",
    "from sklearn.tree import DecisionTreeClassifier\n",
    "from sklearn.linear_model import Perceptron\n",
    "from sklearn.linear_model import LogisticRegression\n",
    "from sklearn import svm\n",
    "from sklearn.neighbors import KNeighborsClassifier\n",
    "from sklearn.neural_network import MLPClassifier\n",
    "from sklearn.model_selection import GridSearchCV\n",
    "\n",
    "from sklearn.metrics import confusion_matrix\n",
    "from sklearn.metrics import classification_report\n",
    "from sklearn.naive_bayes import GaussianNB\n",
    "from sklearn import metrics\n",
    "\n",
    "from sklearn.model_selection import train_test_split\n",
    "from sklearn.preprocessing import StandardScaler"
   ]
  },
  {
   "cell_type": "markdown",
   "id": "30ddaf9f",
   "metadata": {},
   "source": [
    "# Reading .csv file"
   ]
  },
  {
   "cell_type": "code",
   "execution_count": null,
   "id": "af127a23",
   "metadata": {},
   "outputs": [],
   "source": [
    "dataset = pd.read_csv('grid.csv')\n",
    "dataset.head()"
   ]
  },
  {
   "cell_type": "markdown",
   "id": "0cc764b8",
   "metadata": {},
   "source": [
    "# Constant Variables"
   ]
  },
  {
   "cell_type": "code",
   "execution_count": null,
   "id": "1c03f9c2",
   "metadata": {},
   "outputs": [],
   "source": [
    "X = dataset.drop(['stab', 'stabf'], axis=1)\n",
    "y = dataset['stabf']\n",
    "\n",
    "feature_names=['tau1','tau2','tau3','tau4','p1','p2','p3','p4','g1','g2','g3','g4']"
   ]
  },
  {
   "cell_type": "markdown",
   "id": "f15650e7",
   "metadata": {},
   "source": [
    "# Feature Scaling via Standardization"
   ]
  },
  {
   "cell_type": "code",
   "execution_count": null,
   "id": "aef6b3fc",
   "metadata": {},
   "outputs": [],
   "source": [
    "X_train, X_test, y_train, y_test = train_test_split(X, y, shuffle =True, test_size=0.25, random_state=42)\n",
    "\n",
    "sc = StandardScaler()\n",
    "X_train = sc.fit_transform(X_train)\n",
    "X_test = sc.transform(X_test)"
   ]
  },
  {
   "cell_type": "markdown",
   "id": "084a9194",
   "metadata": {},
   "source": [
    "# ANN Classifier"
   ]
  },
  {
   "cell_type": "code",
   "execution_count": null,
   "id": "f9b4114b",
   "metadata": {
    "scrolled": true
   },
   "outputs": [],
   "source": [
    "clf = MLPClassifier()\n",
    "clf.fit(X_train,y_train)\n",
    "y_pred = clf.predict(X_test)\n",
    "\n",
    "cm=confusion_matrix(y_test, y_pred)\n",
    "plt.figure(figsize=(12,6))\n",
    "plt.title(\"Confusion Matrix\")\n",
    "sns.heatmap(cm, annot=True, fmt='d', cmap='Blues')\n",
    "plt.ylabel(\"Actual Values\")\n",
    "plt.xlabel(\"Predicted Values\")\n",
    "plt.savefig('confusion_matrix.png')\n",
    "\n",
    "# print(\"Accuracy:\", metrics.accuracy_score(y_test, y_pred))\n",
    "# print(\"Precision:\", metrics.precision_score(y_test, y_pred))\n",
    "# print(\"Recall:\", metrics.recall_score(y_test, y_pred))\n",
    "# print(\"F1-score:\", (2*metrics.precision_score(y_test, y_pred)*metrics.recall_score(y_test, y_pred)) / (metrics.precision_score(y_test, y_pred) + metrics.recall_score(y_test, y_pred)))\n",
    "# print(\"\")\n",
    "\n",
    "print(\"Classification Report:\\n\")\n",
    "report = classification_report(y_test, y_pred, output_dict = True)\n",
    "cr = pd.DataFrame(report).transpose()\n",
    "print(cr)"
   ]
  },
  {
   "cell_type": "markdown",
   "id": "95718fe5",
   "metadata": {},
   "source": [
    "# ANN (GridSearchCV)"
   ]
  },
  {
   "cell_type": "code",
   "execution_count": null,
   "id": "b5177b0c",
   "metadata": {},
   "outputs": [],
   "source": [
    "clf = MLPClassifier()\n",
    "\n",
    "param_grid = { \n",
    "    'hidden_layer_sizes': [(50,50,50), (50,100,50), (100,)],\n",
    "    'activation': ['tanh', 'relu'],\n",
    "    'solver': ['sgd', 'adam'],\n",
    "    'alpha': [0.0001, 0.05],\n",
    "    'learning_rate': ['constant','adaptive'],\n",
    "}\n",
    "\n",
    "CV_mlpc = GridSearchCV(estimator=clf, param_grid=param_grid, cv= 5, scoring='accuracy')\n",
    "CV_mlpc.fit(X_train, y_train)"
   ]
  },
  {
   "cell_type": "markdown",
   "id": "fd30ff4b",
   "metadata": {},
   "source": [
    "# ANN Best Parameters"
   ]
  },
  {
   "cell_type": "code",
   "execution_count": null,
   "id": "43742134",
   "metadata": {},
   "outputs": [],
   "source": [
    "CV_mlpc.best_params_"
   ]
  },
  {
   "cell_type": "markdown",
   "id": "265d3e15",
   "metadata": {},
   "source": [
    "# ANN Classifier w/ New Parameters"
   ]
  },
  {
   "cell_type": "code",
   "execution_count": null,
   "id": "52af18d6",
   "metadata": {},
   "outputs": [],
   "source": [
    "mlpc = MLPClassifier(max_iter=150, momentum=0.6, solver='adam', activation='tanh', learning_rate_init=0.005, alpha=0.05)\n",
    "mlpc.fit(X_train,y_train)\n",
    "y_pred = mlpc.predict(X_test)\n",
    "\n",
    "report = classification_report(y_test, y_pred, output_dict = True)\n",
    "cr = pd.DataFrame(report).transpose()\n",
    "print(cr)"
   ]
  }
 ],
 "metadata": {
  "kernelspec": {
   "display_name": "Python 3",
   "language": "python",
   "name": "python3"
  },
  "language_info": {
   "codemirror_mode": {
    "name": "ipython",
    "version": 3
   },
   "file_extension": ".py",
   "mimetype": "text/x-python",
   "name": "python",
   "nbconvert_exporter": "python",
   "pygments_lexer": "ipython3",
   "version": "3.8.8"
  }
 },
 "nbformat": 4,
 "nbformat_minor": 5
}
